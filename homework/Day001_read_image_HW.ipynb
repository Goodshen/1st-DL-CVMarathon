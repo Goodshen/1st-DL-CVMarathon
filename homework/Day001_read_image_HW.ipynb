{
 "cells": [
  {
   "cell_type": "markdown",
   "metadata": {},
   "source": [
    "# 作業\n",
    "\n",
    "思考一下我們前面有提到圖片是矩陣，但維度可能會不一樣\n",
    "例如灰階圖只有兩個維度，RGB 彩圖則有 3 個維度\n",
    "\n",
    "假如今天我們把 RGB 3 個維度拆開來看會有甚麼不同的效果呢？"
   ]
  },
  {
   "cell_type": "code",
   "execution_count": 1,
   "metadata": {},
   "outputs": [],
   "source": [
    "import cv2\n",
    "import numpy as np\n",
    "\n",
    "#img_path = 'data/lena.png'\n",
    "\n",
    "img = cv2.imread('lena.png')\n",
    "\n",
    "b, g, r = cv2.split(img)\n",
    "cv2.imshow(\"Blue\", b)\n",
    "cv2.imshow(\"Green\", g)\n",
    "cv2.imshow(\"Red\", r)\n",
    "\n",
    "\n",
    "\n",
    "#zeros = np.zeros(img.shape[:2],dtype=\"uint8\")\n",
    "\n",
    "#cv2.imshow(\"RED\",cv2.merge([zeros,zeros,R]))\n",
    "#cv2.imshow(\"GREEN\",cv2.merge([zeros,G,zeros]))\n",
    "#cv2.imshow(\"BLUE\",cv2.merge([B,zeros,zeros]))\n",
    "\n",
    "cv2.waitKey(0)\n",
    "cv2.destroyAllWindows()"
   ]
  },
  {
   "cell_type": "code",
   "execution_count": null,
   "metadata": {},
   "outputs": [],
   "source": []
  }
 ],
 "metadata": {
  "kernelspec": {
   "display_name": "Python 3",
   "language": "python",
   "name": "python3"
  },
  "language_info": {
   "codemirror_mode": {
    "name": "ipython",
    "version": 3
   },
   "file_extension": ".py",
   "mimetype": "text/x-python",
   "name": "python",
   "nbconvert_exporter": "python",
   "pygments_lexer": "ipython3",
   "version": "3.7.3"
  }
 },
 "nbformat": 4,
 "nbformat_minor": 2
}
